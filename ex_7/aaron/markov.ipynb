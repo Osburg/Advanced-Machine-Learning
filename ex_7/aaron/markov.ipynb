{
 "cells": [
  {
   "cell_type": "markdown",
   "metadata": {},
   "source": [
    "# Exercise 7\n",
    "## 1. Chimpanzee"
   ]
  },
  {
   "cell_type": "code",
   "execution_count": 379,
   "metadata": {},
   "outputs": [],
   "source": [
    "import numpy as np"
   ]
  },
  {
   "cell_type": "code",
   "execution_count": 380,
   "metadata": {},
   "outputs": [],
   "source": [
    "def forwardBackward(A, B, o, p0):\n",
    "    \"\"\"\n",
    "    Implementation of the forward-backward algorithm\n",
    "    \n",
    "    \n",
    "    Args:\n",
    "        Matrix A: matrix describing the transition probabilities of the hidden random variables\n",
    "        Matrix B: matrix describing the probabilities for the observations. The B_ij row represents \n",
    "                  the probability that the j-th observation is made when the system is in the i-th hidden state\n",
    "        Array o:  of size (T,) where T is the number of observations. The t-th entry is the index of the \n",
    "                  t-th observation state.\n",
    "        Array p0: of size (n_states) where n_states is the number of hidden states. \n",
    "                  Initial value for the probability distribution\n",
    "    \"\"\"\n",
    "    #Forward part\n",
    "    n_states, n_events = np.shape(B)\n",
    "    T = np.shape(o)[0]\n",
    "    \n",
    "    #create observation matrices\n",
    "    O = np.empty(shape=(n_events, n_states, n_states))\n",
    "    for i in range(n_events):\n",
    "        O[i,:,:] = np.diag(B[:,i].T)\n",
    "        \n",
    "    #do the forward pass\n",
    "    c = np.ones(shape=(T+1,))\n",
    "    f = np.ones(shape=(T+1, n_states))\n",
    "    f[0] = p0\n",
    "    for i in range(T):\n",
    "        f[i+1] = f[i]@A@O[o[i]]   #forward step\n",
    "        c[i+1] = np.sum(f[i+1])\n",
    "        f[i+1] = f[i+1] / c[i+1]   #normalization\n",
    "        \n",
    "    #Backward part\n",
    "    #do the backward pass\n",
    "    b = np.ones(shape=(T+1,n_states))\n",
    "    for i in range(T):\n",
    "        b[-i-2] = A@O[o[-i-1]]@b[-i-1].transpose()    #backward step and normalization\n",
    "        b[-i-2] = b[-i-2]/np.sum(b[-i-2])\n",
    "\n",
    "    P = f*b \n",
    "    scale = np.sum(P,axis=1)\n",
    "    scale = scale.reshape((len(scale),1))\n",
    "    scale = np.repeat(scale, 2, axis=1)\n",
    "    P = P / scale\n",
    "    \n",
    "    return P"
   ]
  },
  {
   "cell_type": "code",
   "execution_count": 381,
   "metadata": {},
   "outputs": [
    {
     "name": "stdout",
     "output_type": "stream",
     "text": [
      "result wikipedia example\n",
      "[[0.64693556 0.35306444]\n",
      " [0.86733889 0.13266111]\n",
      " [0.82041905 0.17958095]\n",
      " [0.30748358 0.69251642]\n",
      " [0.82041905 0.17958095]\n",
      " [0.86733889 0.13266111]]\n",
      "\n",
      " result chimpanzee example\n",
      "[[0.5        0.5       ]\n",
      " [0.55555556 0.44444444]\n",
      " [0.8        0.2       ]\n",
      " [0.8        0.2       ]\n",
      " [0.55555556 0.44444444]\n",
      " [0.16666667 0.83333333]\n",
      " [0.55555556 0.44444444]\n",
      " [0.16666667 0.83333333]\n",
      " [0.16666667 0.83333333]\n",
      " [0.16666667 0.83333333]\n",
      " [0.55555556 0.44444444]\n",
      " [0.16666667 0.83333333]\n",
      " [0.16666667 0.83333333]\n",
      " [0.16666667 0.83333333]\n",
      " [0.16666667 0.83333333]\n",
      " [0.16666667 0.83333333]\n",
      " [0.55555556 0.44444444]\n",
      " [0.55555556 0.44444444]\n",
      " [0.8        0.2       ]\n",
      " [0.8        0.2       ]\n",
      " [0.16666667 0.83333333]]\n"
     ]
    }
   ],
   "source": [
    "#Wikipedia example\n",
    "A = np.array([[0.7,0.3],[0.3,0.7]])\n",
    "B = np.array([[0.9,0.1],[0.2,0.8]])\n",
    "p0 = np.array([0.5,0.5])\n",
    "o = np.array([0,0,1,0,0])\n",
    "\n",
    "print(\"result wikipedia example\")\n",
    "P = forwardBackward(A,B,o,p0)\n",
    "print(P)\n",
    "\n",
    "#exercise sheet example\n",
    "A = np.array([[0.5,0.5],[0.5,0.5]])\n",
    "B = np.array([[0.5,0.4,0.1],[0.4,0.1,0.5]])\n",
    "p0 = np.array([0.5,0.5])\n",
    "o = np.array([0, 1, 1, 0, 2, 0, 2, 2, 2, 0, 2, 2, 2, 2, 2, 0, 0, 1, 1, 2])\n",
    "\n",
    "print(\"\\n result chimpanzee example\")\n",
    "P = forwardBackward(A,B,o,p0)\n",
    "print(P)"
   ]
  },
  {
   "cell_type": "code",
   "execution_count": 382,
   "metadata": {},
   "outputs": [],
   "source": [
    "def viterbi(A,B,o,p0):\n",
    "    \"\"\"\n",
    "    Implementation of the viterbi algorithm\n",
    "    \n",
    "    \n",
    "    Args:\n",
    "        Matrix A: matrix describing the transition probabilities of the hidden random variables\n",
    "        Matrix B: matrix describing the probabilities for the observations. The B_ij row represents \n",
    "                  the probability that the j-th observation is made when the system is in the i-th hidden state\n",
    "        Array o:  of size (T,) where T is the number of observations. The t-th entry is the index of the \n",
    "                  t-th observation state.\n",
    "        Array p0: of size (n_states) where n_states is the number of hidden states. \n",
    "                  Initial value for the probability distribution\n",
    "    \"\"\"    \n",
    "    n_states, n_events = np.shape(B)\n",
    "    T = np.shape(o)[0]\n",
    "    \n",
    "    #create observation matrices\n",
    "    O = np.empty(shape=(n_events, n_states, n_states))\n",
    "    for i in range(n_events):\n",
    "        O[i,:,:] = np.diag(B[:,i].T)\n",
    "\n",
    "    theta = np.zeros(shape=(T,n_states))\n",
    "    psi = np.zeros(shape=(T,n_states))\n",
    "    \n",
    "    #initialization\n",
    "    theta[0,:] = p0@O[o[0]]\n",
    "    psi[0,:] = 0\n",
    "    \n",
    "    #recursion\n",
    "    for i in range(1,T):\n",
    "        theta_rep = np.reshape(theta[i-1], (len(theta[i-1]),1)).repeat(2,axis=1)\n",
    "        theta[i] = B[:,o[i]].T * np.max(theta_rep*A, axis=0)\n",
    "        \n",
    "        psi[i] = np.argmax(theta_rep*A, axis=0)\n",
    "\n",
    "    #termination\n",
    "    q = np.empty(T, dtype=int)\n",
    "    \n",
    "    q[-1] = np.argmax(theta[-1])\n",
    "    for i in range(1,T):\n",
    "        q[-i-1] = psi[i,q[-i]]\n",
    "    \n",
    "    return q\n",
    "    "
   ]
  },
  {
   "cell_type": "code",
   "execution_count": 383,
   "metadata": {},
   "outputs": [
    {
     "name": "stdout",
     "output_type": "stream",
     "text": [
      "[0 0 0 0 1 1 1 1 1 0 1 1 1 0 1 0 0 0 0 1]\n"
     ]
    }
   ],
   "source": [
    "A = np.array([[0.5,0.5],[0.5,0.5]])\n",
    "B = np.array([[0.5,0.4,0.1],[0.4,0.1,0.5]])\n",
    "p0 = np.array([0.5,0.5])\n",
    "o = np.array([0, 1, 1, 0, 2, 0, 2, 2, 2, 0, 2, 2, 2, 2, 2, 0, 0, 1, 1, 2])\n",
    "\n",
    "Q = viterbi(A,B,o,p0)\n",
    "print(Q)"
   ]
  },
  {
   "cell_type": "code",
   "execution_count": 393,
   "metadata": {},
   "outputs": [
    {
     "name": "stdout",
     "output_type": "stream",
     "text": [
      "globally most probable path:\n",
      "[0 0 0 0 1 1 1 1 1 0 1 1 1 0 1 0 0 0 0 1]\n",
      "\n",
      "path of locally most probable sates:\n",
      "[0 0 0 0 1 0 1 1 1 0 1 1 1 1 1 0 0 0 0 1]\n",
      "\n",
      "correspondence between both paths:\n",
      "[1 1 1 1 1 0 1 1 1 1 1 1 1 0 1 1 1 1 1 1]\n"
     ]
    }
   ],
   "source": [
    "print(\"globally most probable path:\")\n",
    "print(Q)\n",
    "\n",
    "print(\"\\npath of locally most probable sates:\")\n",
    "Q_ = np.argmax(P[1:],axis=1)\n",
    "print(Q_)\n",
    "\n",
    "print(\"\\ncorrespondence between both paths:\")\n",
    "print(np.equal(Q_, Q).astype(int))"
   ]
  },
  {
   "cell_type": "markdown",
   "metadata": {},
   "source": [
    "We use the Viterbi algorithm to find the global MAP solution and the forward-backward algorithm to find the local MAP solutions. We see that both paths show a high level of correspondence, but are NOT the same.\n",
    "\n",
    "## Pairwise Marginals"
   ]
  },
  {
   "cell_type": "code",
   "execution_count": null,
   "metadata": {},
   "outputs": [],
   "source": []
  }
 ],
 "metadata": {
  "kernelspec": {
   "display_name": "Python 3",
   "language": "python",
   "name": "python3"
  },
  "language_info": {
   "codemirror_mode": {
    "name": "ipython",
    "version": 3
   },
   "file_extension": ".py",
   "mimetype": "text/x-python",
   "name": "python",
   "nbconvert_exporter": "python",
   "pygments_lexer": "ipython3",
   "version": "3.8.5"
  }
 },
 "nbformat": 4,
 "nbformat_minor": 4
}
